{
 "metadata": {
  "name": "",
  "signature": "sha256:cd82cff435b1189f42924cbba1a8efc6c54e7f73e2fedde57acdb99fe36db8ef"
 },
 "nbformat": 3,
 "nbformat_minor": 0,
 "worksheets": [
  {
   "cells": [
    {
     "cell_type": "markdown",
     "metadata": {},
     "source": [
      "# Residue Cluster Class System\n",
      "\n",
      "Residue Cluster Class System (RCCs) is a set system, a family of subsets of the set of amino acid residues in a protein.\n",
      "RCCs have the Sperner property, which is that no set is a subset of any other. \n",
      "The subsets in this Sperner Family are residues in simultaneous contact and are called residue clusters.\n",
      "Each residue cluster in this Sperner Family is labeled by a class. A class depends on sequence contiguity of the residues. There are 26 classes and counting of these classes are used as protein structure descriptors (see more details on Appendix).\n",
      "\n",
      "\n",
      "To compute these 26 descriptors given a protein structure in PDB format, it is necessary to create an ```RCC ``` object with the PDB name and chain of interest.\n",
      "\n",
      "The list of descriptors as a list of integer numbers is computed at construction time and can be found on the ```RCCvector``` variable.\n"
     ]
    },
    {
     "cell_type": "code",
     "collapsed": false,
     "input": [
      "import RCCpackage.RCCobject as rcco\n",
      "rccs = rcco.RCC('files/1HIV.pdb','A')\n",
      "print ','.join(map(str,rccs.RCCvector))"
     ],
     "language": "python",
     "metadata": {},
     "outputs": [
      {
       "output_type": "stream",
       "stream": "stdout",
       "text": [
        "11,1,11,9,18,8,48,3,2,1,19,2,1,28,6,0,0,0,0,0,0,0,0,1,1,0\n"
       ]
      }
     ],
     "prompt_number": 10
    },
    {
     "cell_type": "markdown",
     "metadata": {},
     "source": [
      "This operation can be performed over all [domain definitions](ftp://ftp.biochem.ucl.ac.uk/pub/cath/v4_0_0/CathDomainPdb.v4_0_0.tgz) classified in [CATH](http://www.cathdb.info/) database.\n",
      "\n",
      "Precomputed dataset is provided as the [```CATHFINAL.txt```](./CATHFINAL.txt) textfile. \n",
      "In order to rapidly test code on this notebook, a reduced version with 1500 domain is in [```CATHFINALforTest.txt```](./CATHFINALforTest.txt) "
     ]
    },
    {
     "cell_type": "code",
     "collapsed": false,
     "input": [
      "from modelEvaluationAndStats import *\n",
      "makeElenaTuning(dataset='CATHFINALforTest.txt',dbtype='CATH',level=1,k_iters=3)"
     ],
     "language": "python",
     "metadata": {},
     "outputs": [
      {
       "output_type": "stream",
       "stream": "stdout",
       "text": [
        "\n",
        "Classess skipped having less than  100 samples:\n",
        "4 \n",
        "\n",
        "{'vectors': array([[  0.,   0.,   2., ...,   0.,   0.,  16.],\n",
        "       [ 16.,   1.,   1., ...,   1.,   0.,  31.],\n",
        "       [ 13.,   1.,   5., ...,   0.,   1.,  34.],\n",
        "       ..., \n",
        "       [ 28.,   6.,   1., ...,   1.,   0.,  49.],\n",
        "       [ 15.,   5.,   3., ...,   0.,   5.,  12.],\n",
        "       [  6.,   2.,   3., ...,   0.,   0.,   6.]]), 'domain_names': array(['1oaiA00', '101mA00', '102lA00', ..., '1a37B00', '1eypA02',\n",
        "       '1eypB01'], \n",
        "      dtype='|S7'), 'target_names': array(['1', '1', '1', ..., '1', '3', '1'], \n",
        "      dtype='|S1')}\n",
        "The best parameters are: min_samples_split="
       ]
      },
      {
       "output_type": "stream",
       "stream": "stdout",
       "text": [
        " 4 and max_depth= None\n"
       ]
      },
      {
       "metadata": {},
       "output_type": "display_data",
       "png": "[encoded data removed]",
       "text": [
        "<matplotlib.figure.Figure at 0x10ca00f10>"
       ]
      }
     ],
     "prompt_number": 2
    },
    {
     "cell_type": "markdown",
     "metadata": {},
     "source": [
      "Now, some visualization"
     ]
    },
    {
     "cell_type": "code",
     "collapsed": false,
     "input": [
      "from sklearn.manifold import Isomap\n",
      "dmap = Isomap(n_components=2)\n",
      "cathdb = dbParser(db='CATHFINALforTest.txt',level=1,dbtype='CATH',minsamples=5)\n",
      "X = Isomap.fit_transform(X)"
     ],
     "language": "python",
     "metadata": {},
     "outputs": [
      {
       "ename": "NameError",
       "evalue": "name 'CATHFINALforTest' is not defined",
       "output_type": "pyerr",
       "traceback": [
        "\u001b[0;31m---------------------------------------------------------------------------\u001b[0m\n\u001b[0;31mNameError\u001b[0m                                 Traceback (most recent call last)",
        "\u001b[0;32m<ipython-input-4-47354a616e29>\u001b[0m in \u001b[0;36m<module>\u001b[0;34m()\u001b[0m\n\u001b[1;32m      1\u001b[0m \u001b[0;32mfrom\u001b[0m \u001b[0msklearn\u001b[0m\u001b[0;34m.\u001b[0m\u001b[0mmanifold\u001b[0m \u001b[0;32mimport\u001b[0m \u001b[0mIsomap\u001b[0m\u001b[0;34m\u001b[0m\u001b[0m\n\u001b[1;32m      2\u001b[0m \u001b[0mdmap\u001b[0m \u001b[0;34m=\u001b[0m \u001b[0mIsomap\u001b[0m\u001b[0;34m(\u001b[0m\u001b[0mn_components\u001b[0m\u001b[0;34m=\u001b[0m\u001b[0;36m2\u001b[0m\u001b[0;34m)\u001b[0m\u001b[0;34m\u001b[0m\u001b[0m\n\u001b[0;32m----> 3\u001b[0;31m \u001b[0mcathdb\u001b[0m \u001b[0;34m=\u001b[0m \u001b[0mdbParser\u001b[0m\u001b[0;34m(\u001b[0m\u001b[0mdb\u001b[0m\u001b[0;34m=\u001b[0m\u001b[0mCATHFINALforTest\u001b[0m\u001b[0;34m.\u001b[0m\u001b[0mtxt\u001b[0m\u001b[0;34m,\u001b[0m\u001b[0mlevel\u001b[0m\u001b[0;34m=\u001b[0m\u001b[0;36m1\u001b[0m\u001b[0;34m,\u001b[0m\u001b[0mdbtype\u001b[0m\u001b[0;34m=\u001b[0m\u001b[0;34m'CATH'\u001b[0m\u001b[0;34m,\u001b[0m\u001b[0mminsamples\u001b[0m\u001b[0;34m=\u001b[0m\u001b[0;36m5\u001b[0m\u001b[0;34m)\u001b[0m\u001b[0;34m\u001b[0m\u001b[0m\n\u001b[0m\u001b[1;32m      4\u001b[0m \u001b[0mX\u001b[0m \u001b[0;34m=\u001b[0m \u001b[0mIsomap\u001b[0m\u001b[0;34m.\u001b[0m\u001b[0mfit_transform\u001b[0m\u001b[0;34m(\u001b[0m\u001b[0mX\u001b[0m\u001b[0;34m)\u001b[0m\u001b[0;34m\u001b[0m\u001b[0m\n",
        "\u001b[0;31mNameError\u001b[0m: name 'CATHFINALforTest' is not defined"
       ]
      }
     ],
     "prompt_number": 4
    },
    {
     "cell_type": "markdown",
     "metadata": {},
     "source": [
      "# Appendix \n",
      "## Construction of Residue Cluster Classes\n",
      "### Definitions\n",
      "Residue Neighbourhood ($N_{\\epsilon}(r)$). Let $P$ be a protein with residues $R=r_1,r_2,...,r_n$. \n",
      "The system $\\tau_{prim}$ is defined as:\n",
      "\n",
      "$$\n",
      "\\tau_{prim} = \\{ \\{r_i,r_j\\} : \\text{there exists a bond between $r_i$ and $r_j$} \\}\n",
      "$$\n",
      "\n",
      "Given a metric $d:R \\times R \\rightarrow [0,\\infty)$ and a cut-off distance $\\epsilon$ , \n",
      "the neighbourhood $N_{\\epsilon}(r)$ of a residue $r$ is given by:\n",
      "\n",
      "$$\n",
      "N_{\\epsilon}(r) = \\{x \\in R :  \\exists a \\in A(x), b \\in A(r) ; d(a,b) \\leq \\epsilon \\}\n",
      "$$\n",
      "\n",
      "\n",
      "Where $A(r)$ is the set of non-hydrogen atoms of residue $r$. \n",
      "Thus, $ N_{\\epsilon}(r) $ is the set of all residues near $r$ , i.e.,  they are at no more than a distance $\\epsilon$ from $r$.\n",
      "\n",
      "Residue Cluster (RC). A residue cluster on $P$ is a subset $A \\subseteq 2^{R}$ such that $A\\subseteq N_{\\epsilon}(a)$ \n",
      "for all $a \\in A$. If  $\\left | A\\right | = k$, then $A$ is a $k$-Residue Cluster, $_kRC$\n",
      "\n",
      "Residue Cluster Class (RCC). A class over a RC is defined by the primary structure on $\\tau_{prim}$.\n",
      "A pair of residues $r_i$, $r_j$ are contiguous if $\\{r_i , r_j\\} \\in \\tau_{prim}$\n",
      "and a set $\\overline{s_L}$ of $L$ residues form a segment in $\\tau_{prim}$ if it contains $(L-1)$ contiguous residues. \n",
      "By convention,  $\\overline{s_1} = \\{r\\}$ for any  $r \\in  R$.\n",
      "\n",
      "\n",
      "Let be $\\gamma$ the family of all segments in $\\tau_{prim}$. $C$ is a set cover of a $k$-Residue Cluster $_kRC$ if\n",
      "$$\n",
      "C = \\{ \\overline{s_{L_\\alpha}}: \\alpha \\in A , \\overline{s_{L_\\alpha}} \\in \\gamma \\}\n",
      "$$\n",
      "\n",
      "such that \n",
      "\n",
      "$$\n",
      "_kRC = \\bigcup_{\\alpha \\in A} \\overline{s_{L_\\alpha}}\n",
      "$$\n",
      "\n",
      "and\n",
      "\n",
      "$$\n",
      "c_i \\cap c_j = \\varnothing , \\forall c_i,c_j \\in C\n",
      "$$\n",
      "\n",
      "Therefore, $C = \\overline{s_{L_{1}}},\\overline{s_{L_2}},...,\\overline{s_{L_A}}$  is a covering if \n",
      "\n",
      "\n",
      "$$\n",
      "\\sum_{i=1}^{A} L_i = k\n",
      "$$\n",
      "\n",
      "\n",
      "and can be uniquely identified by the vector class $\\vec{C} =(L_1,L_2,...,L_A)$ with  $L_i \\leq L_j$ for any $i,j$ such that $i \\leq j$.\n",
      "\n",
      "Lets define the $k$-Residue Cluster Class $_kRC_{\\vec{C}}$ as the set of all $_kRC$ of class $\\vec{C}$.\n",
      "The residue cluster class system $\\Re$ is a Sperner family. \n",
      "It is defined as the set of all residue clusters for all $k$, $\\vec{C}$ such that none is subset of some other, that is:\n",
      "\n",
      "$$\n",
      "\\Re = \\{W \\in R :\\exists X \\in  _kRC_{\\vec{c}}, X \\subseteq  W\\}\n",
      "$$\n",
      "\n",
      "Let $M(\\vec{c_i})$ be the number of occurrences of a residue cluster class $\\vec{c_i}$ in a system $\\Re$.\n",
      "\n",
      "The vector point $\\vec{\\Re}$ of $\\Re$ is defined by \n",
      "\n",
      "$$\n",
      "\\vec{\\Re} =  \\sum_{i\\in I} M(\\vec{c_i}) v_i\n",
      "$$\n",
      "\n",
      "with  $v_i \\in B$, where $B = \\{v_1,v_2,...,v_{|I|}\\}$ is the standard orthonormal basis for $\\mathbb{R}^{|I|}$\n",
      "and $I$ is an index set over the set of cluster classes considered.\n",
      "\n",
      "\n",
      "Thus, an RCC construction is illustrated in the next figure, where different classes are assigned to a $_kRC_{\\vec{C}}$ according to sequence contiguity.\n",
      "\n",
      "<img src=\"images/Figure2_600ppi_new.png\" text=\"basdf\">"
     ]
    },
    {
     "cell_type": "code",
     "collapsed": false,
     "input": [],
     "language": "python",
     "metadata": {},
     "outputs": []
    }
   ],
   "metadata": {}
  }
 ]
}